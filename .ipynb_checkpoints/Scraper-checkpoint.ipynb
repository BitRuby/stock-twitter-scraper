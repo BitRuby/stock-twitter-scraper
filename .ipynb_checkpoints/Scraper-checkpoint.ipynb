{
 "cells": [
  {
   "cell_type": "code",
   "execution_count": 1,
   "id": "507728af",
   "metadata": {},
   "outputs": [],
   "source": [
    "import pymongo\n",
    "from pymongo.mongo_client import MongoClient\n",
    "from pymongo.server_api import ServerApi\n",
    "from bson.objectid import ObjectId\n",
    "import os\n",
    "\n",
    "uri = os.environ.get('MONGODB_URI', None)\n",
    "client = MongoClient(uri, server_api=ServerApi('1'))\n",
    "PREDEFINED_DATE=\"2024-01-12\"\n",
    "\n",
    "try:\n",
    "    client.admin.command('ping')\n",
    "    print(\"Pinged your deployment. You successfully connected to MongoDB!\")\n",
    "except Exception as e:\n",
    "    print(e)\n",
    "\n",
    "# local_client = pymongo.MongoClient(\"mongodb://localhost:27017/\")\n",
    "# local_mydb = local_client[\"phd\"]\n",
    "# local_tags_db = local_mydb[\"x_com_tags\"]\n",
    "# local_tw_db = local_mydb[\"tweets\"]\n",
    "# local_daily_tweets_db = local_mydb[\"daily_tweets\"]\n",
    "  \n",
    "mydb = client[\"phd\"]\n",
    "tags_db = mydb[\"x_com_tags\"]\n",
    "tw_db = mydb[\"tweets\"]\n",
    "daily_tweets_db = mydb[\"daily_tweets\"]"
   ]
  },
  {
   "cell_type": "code",
   "execution_count": 2,
   "id": "05d24cb8",
   "metadata": {},
   "outputs": [],
   "source": [
    "from twikit import Client, TooManyRequests, Unauthorized\n",
    "import pandas as pd\n",
    "import numpy as np\n",
    "from datetime import datetime\n",
    "import asyncio\n",
    "import csv\n",
    "import random\n",
    "from random import randint\n",
    "import time\n",
    "import os\n",
    "\n",
    "USERNAME = os.environ.get('TWITTER_USR', None)\n",
    "EMAIL = os.environ.get('TWITTER_EMAIL', None)\n",
    "PASSWORD = os.environ.get('TWITTER_PASS', None)\n",
    "\n",
    "async def twitter_login():\n",
    "    try: \n",
    "        client = Client('en-US')\n",
    "        await client.login(\n",
    "            auth_info_1=USERNAME,\n",
    "            auth_info_2=EMAIL,\n",
    "            password=PASSWORD\n",
    "        )\n",
    "        client.save_cookies('cookies.json')\n",
    "        print(\"Logged in and saving cookies!\")\n",
    "    except Exception as e:\n",
    "        print(e)\n",
    "    finally:\n",
    "        client.load_cookies('cookies.json')\n",
    "        print(\"Logged in via cookies!\")\n",
    "        return client\n",
    "    return client"
   ]
  },
  {
   "cell_type": "code",
   "execution_count": 3,
   "id": "4d59df2d",
   "metadata": {},
   "outputs": [],
   "source": [
    "from datetime import datetime, timedelta\n",
    "\n",
    "def previous_day(date_str):\n",
    "    date_obj = datetime.strptime(date_str, \"%Y-%m-%d\")\n",
    "    previous_date_obj = date_obj - timedelta(days=1)\n",
    "    previous_date_str = previous_date_obj.strftime(\"%Y-%m-%d\")\n",
    "    return previous_date_str"
   ]
  },
  {
   "cell_type": "code",
   "execution_count": 4,
   "id": "3bcdcc7b",
   "metadata": {},
   "outputs": [],
   "source": [
    "async def fetch_tweets(client, keyword, date):\n",
    "    tweets_to_store = []\n",
    "    tag = tags_db.find_one({\"name\": keyword})\n",
    "    if tag:\n",
    "        for hour in range(1, 25, 1):\n",
    "            for minute in range(2):\n",
    "                try:\n",
    "                    hour_until = hour - 1 if minute == 0 else hour - 1 if hour == 24 else hour\n",
    "                    minute_until = \"30\" if minute == 0 else \"59\" if hour == 24 else \"00\"\n",
    "                    minute_since = \"30\" if minute == 1 else \"00\"\n",
    "                    query = f\"({tag['tag']}) until:{date}_{hour_until}:{minute_until}:00_UTC since:{date}_{hour-1}:{minute_since}:00_UTC lang:en\"\n",
    "                    print(f\"Getting tweets ({datetime.now()}) from {date} from {date}_{hour-1}:{minute_since} to {hour_until}:{minute_until}\")\n",
    "                    tweets = await client.search_tweet(query, 'Latest')\n",
    "                    for tweet in tweets:\n",
    "                        tweets_to_store.append({\n",
    "                            \"name\": tweet.user.name,\n",
    "                            \"likes\": tweet.favorite_count, \n",
    "                            \"content\": tweet.text,\n",
    "                            \"created_at\": tweet.created_at,\n",
    "                            \"tag_id\": tag[\"_id\"]\n",
    "                        })\n",
    "                    wait = randint(5,10)\n",
    "                    time.sleep(wait)\n",
    "                except TooManyRequests as e:\n",
    "                    rate_limit_reset = datetime.fromtimestamp(e.rate_limit_reset)\n",
    "                    print(f\"Rate limit reached {datetime.now()}, wait until {rate_limit_reset}\")\n",
    "                    wait_time = rate_limit_reset - datetime.now()\n",
    "                    time.sleep(wait_time.total_seconds())\n",
    "        result = tw_db.insert_many(tweets_to_store)\n",
    "        daily_tweets_db.insert_one({\n",
    "            \"date\": date,\n",
    "            \"tweet_ids\": result.inserted_ids,\n",
    "            \"tag_id\": tag[\"_id\"]\n",
    "        })"
   ]
  },
  {
   "cell_type": "code",
   "execution_count": 15,
   "id": "71da5919",
   "metadata": {
    "scrolled": false
   },
   "outputs": [],
   "source": [
    "async def select_tag_and_date(client):\n",
    "    pipeline = [\n",
    "        {\n",
    "            \"$addFields\": {\n",
    "                \"dateAsDate\": {\"$toDate\": \"$date\"}\n",
    "            }\n",
    "        },\n",
    "        {\n",
    "            \"$sort\": {\"dateAsDate\": 1}\n",
    "        },\n",
    "        {\n",
    "            \"$limit\": 1\n",
    "        }\n",
    "    ]\n",
    "    if len(list(daily_tweets_db.find({}))) == 0:\n",
    "        for tag in tags_db.find({}):\n",
    "            await fetch_tweets(client, tag['name'], previous_day(PREDEFINED_DATE))\n",
    "    else:    \n",
    "        result = list(daily_tweets_db.aggregate(pipeline))\n",
    "        tags = list(daily_tweets_db.find({'date': result[0]['date']}, { 'tag_id': 1, '_id': 0 }))\n",
    "        if len(tags) >= len(list(tags_db.find({}))):\n",
    "            for tag in tags_db.find({}):\n",
    "                await fetch_tweets(client, tag['name'], previous_day(result[0]['date']))\n",
    "        else:\n",
    "            tags_found = [obj['tag_id'] for obj in tags]\n",
    "            tags_r = list(tags_db.find(\n",
    "                {\"_id\": {\"$nin\": tags_found}} \n",
    "            ))\n",
    "            for tag in tags_r:\n",
    "                await fetch_tweets(client, tag['name'], result[0]['date'])"
   ]
  },
  {
   "cell_type": "code",
   "execution_count": 16,
   "id": "4a2d54a0",
   "metadata": {},
   "outputs": [
    {
     "name": "stdout",
     "output_type": "stream",
     "text": [
      "status: 400, message: \"{\"errors\":[{\"code\":366,\"message\":\"Missing data.\"}]}\"\n",
      "Logged in via cookies!\n",
      "True\n"
     ]
    }
   ],
   "source": [
    "async def main():\n",
    "    client = await twitter_login()\n",
    "    await select_tag_and_date(client)\n",
    "if __name__ == \"__main__\":\n",
    "    asyncio.run(main())"
   ]
  },
  {
   "cell_type": "code",
   "execution_count": null,
   "id": "45e0d20a",
   "metadata": {},
   "outputs": [],
   "source": [
    "# for tag in tags_db.find({}):\n",
    "#     await fetch_tweets(tag['name'], \"2024-10-06\")\n",
    "# # os.system(\"shutdown /s /t 1\")"
   ]
  }
 ],
 "metadata": {
  "kernelspec": {
   "display_name": "Python 3 (ipykernel)",
   "language": "python",
   "name": "python3"
  },
  "language_info": {
   "codemirror_mode": {
    "name": "ipython",
    "version": 3
   },
   "file_extension": ".py",
   "mimetype": "text/x-python",
   "name": "python",
   "nbconvert_exporter": "python",
   "pygments_lexer": "ipython3",
   "version": "3.10.9"
  }
 },
 "nbformat": 4,
 "nbformat_minor": 5
}
