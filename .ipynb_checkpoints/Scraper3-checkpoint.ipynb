{
 "cells": [
  {
   "cell_type": "code",
   "execution_count": 1,
   "id": "507728af",
   "metadata": {},
   "outputs": [],
   "source": [
    "import pymongo\n",
    "from pymongo.mongo_client import MongoClient\n",
    "from pymongo.server_api import ServerApi\n",
    "from bson.objectid import ObjectId\n",
    "import os\n",
    "\n",
    "uri = os.environ.get('MONGODB_URI', None)\n",
    "client = MongoClient(uri, server_api=ServerApi('1'))\n",
    "\n",
    "try:\n",
    "    client.admin.command('ping')\n",
    "    print(\"Pinged your deployment. You successfully connected to MongoDB!\")\n",
    "except Exception as e:\n",
    "    print(e)\n",
    "\n",
    "# local_client = pymongo.MongoClient(\"mongodb://localhost:27017/\")\n",
    "# local_mydb = local_client[\"phd\"]\n",
    "# local_tags_db = local_mydb[\"x_com_tags\"]\n",
    "# local_tw_db = local_mydb[\"tweets\"]\n",
    "# local_daily_tweets_db = local_mydb[\"daily_tweets\"]\n",
    "  \n",
    "mydb = client[\"phd\"]\n",
    "tags_db = mydb[\"x_com_tags\"]\n",
    "tw_db = mydb[\"tweets\"]\n",
    "daily_tweets_db = mydb[\"daily_tweets\"]\n",
    "enchanced_db = mydb[\"enchanced\"]"
   ]
  },
  {
   "cell_type": "code",
   "execution_count": 2,
   "id": "05d24cb8",
   "metadata": {},
   "outputs": [],
   "source": [
    "from twikit import Client, TooManyRequests, Unauthorized\n",
    "import pandas as pd\n",
    "import numpy as np\n",
    "from datetime import datetime\n",
    "import asyncio\n",
    "import csv\n",
    "import random\n",
    "from random import randint\n",
    "import time\n",
    "import os\n",
    "\n",
    "USERNAME = os.environ.get('TWITTER_USR_2', None)\n",
    "EMAIL = os.environ.get('TWITTER_EMAIL_2', None)\n",
    "PASSWORD = os.environ.get('TWITTER_PASS_2', None)\n",
    "\n",
    "async def twitter_login():\n",
    "    try: \n",
    "        client = Client('en-US')\n",
    "        await client.login(\n",
    "            auth_info_1=USERNAME,\n",
    "            auth_info_2=EMAIL,\n",
    "            password=PASSWORD\n",
    "        )\n",
    "        client.save_cookies('cookies_2.json')\n",
    "        print(\"Logged in and saving cookies!\")\n",
    "    except Exception as e:\n",
    "        print(e)\n",
    "    finally:\n",
    "        client.load_cookies('cookies_2.json')\n",
    "        print(\"Logged in via cookies!\")\n",
    "        return client\n",
    "    return client"
   ]
  },
  {
   "cell_type": "code",
   "execution_count": 3,
   "id": "4d59df2d",
   "metadata": {},
   "outputs": [],
   "source": [
    "from datetime import datetime, timedelta\n",
    "\n",
    "def prev_day(date_str):\n",
    "    date_obj = datetime.strptime(date_str, \"%Y-%m-%d\")\n",
    "    prev_date_obj = date_obj - timedelta(days=1)\n",
    "    prev_date_str = prev_date_obj.strftime(\"%Y-%m-%d\")\n",
    "    return prev_date_str"
   ]
  },
  {
   "cell_type": "code",
   "execution_count": 4,
   "id": "3bcdcc7b",
   "metadata": {},
   "outputs": [],
   "source": [
    "async def fetch_tweets(client, keyword, date):\n",
    "    tweets_to_store = []\n",
    "    tag = tags_db.find_one({\"name\": keyword})\n",
    "    if tag:\n",
    "        for hour in range(0, 24, 1):\n",
    "            try:\n",
    "                query = f\"({tag['tag']}) until:{date}_{hour}:30:00_UTC since:{date}_{hour}:00:00_UTC lang:en\"\n",
    "                print(f\"Getting tweets ({datetime.now()}) from {date} at {hour}:30\")\n",
    "                tweets = await client.search_tweet(query, 'Latest')\n",
    "                for tweet in tweets:\n",
    "                    tweets_to_store.append({\n",
    "                        \"name\": tweet.user.name,\n",
    "                        \"likes\": tweet.favorite_count, \n",
    "                        \"content\": tweet.text,\n",
    "                        \"created_at\": tweet.created_at,\n",
    "                        \"tag_id\": tag[\"_id\"]\n",
    "                    })\n",
    "                wait = randint(5,10)\n",
    "                time.sleep(wait)\n",
    "            except TooManyRequests as e:\n",
    "                rate_limit_reset = datetime.fromtimestamp(e.rate_limit_reset)\n",
    "                print(f\"Rate limit reached {datetime.now()}, wait until {rate_limit_reset}\")\n",
    "                wait_time = rate_limit_reset - datetime.now()\n",
    "                time.sleep(wait_time.total_seconds())\n",
    "        result = tw_db.insert_many(tweets_to_store)\n",
    "        enchanced_db.insert_one({\n",
    "            \"tag_id\": tag[\"_id\"],\n",
    "            \"date\": date\n",
    "        })\n",
    "        daily_tweets_db.update_one(\n",
    "            {\"tag_id\": tag[\"_id\"], \"date\": date},\n",
    "            {\"$push\": {\"tweet_ids\": {\"$each\": result.inserted_ids}}}\n",
    "        )"
   ]
  },
  {
   "cell_type": "code",
   "execution_count": 5,
   "id": "71da5919",
   "metadata": {
    "scrolled": false
   },
   "outputs": [],
   "source": [
    "async def select_tag_and_date(client):\n",
    "    pipeline = [\n",
    "        {\n",
    "            \"$addFields\": {\n",
    "                \"dateAsDate\": {\"$toDate\": \"$date\"}\n",
    "            }\n",
    "        },\n",
    "        {\n",
    "            \"$sort\": {\"dateAsDate\": 1}\n",
    "        },\n",
    "        {\n",
    "            \"$limit\": 1\n",
    "        }\n",
    "    ]\n",
    "    result = list(enchanced_db.aggregate(pipeline))\n",
    "    if result:\n",
    "        tags = list(enchanced_db.find({'date': result[0]['date']}, { 'tag_id': 1, '_id': 0 }))\n",
    "        if len(tags) == len(list(tags_db.find({\"name\": {\"$ne\": \"Google\"}}))):\n",
    "            for tag in tags_db.find({\"name\": {\"$ne\": \"Google\"}}):\n",
    "                await fetch_tweets(client, tag['name'], prev_day(result[0]['date']))\n",
    "        else:\n",
    "            tags_found = [obj['tag_id'] for obj in tags]\n",
    "            tags_r = list(tags_db.find(\n",
    "                {\"name\": {\"$ne\": \"Google\"}, \"_id\": {\"$nin\": tags_found}} \n",
    "            ))\n",
    "            for tag in tags_r:\n",
    "                await fetch_tweets(client, tag['name'], result[0]['date'])\n",
    "    else:\n",
    "        for tag in tags_db.find({\"name\": {\"$ne\": \"Google\"}}):\n",
    "            await fetch_tweets(client, tag['name'], \"2024-10-01\")"
   ]
  },
  {
   "cell_type": "code",
   "execution_count": 111,
   "id": "4a2d54a0",
   "metadata": {},
   "outputs": [
    {
     "ename": "RuntimeError",
     "evalue": "asyncio.run() cannot be called from a running event loop",
     "output_type": "error",
     "traceback": [
      "\u001b[1;31m---------------------------------------------------------------------------\u001b[0m",
      "\u001b[1;31mRuntimeError\u001b[0m                              Traceback (most recent call last)",
      "Cell \u001b[1;32mIn[111], line 5\u001b[0m\n\u001b[0;32m      3\u001b[0m     \u001b[38;5;28;01mawait\u001b[39;00m select_tag_and_date(client)\n\u001b[0;32m      4\u001b[0m \u001b[38;5;28;01mif\u001b[39;00m \u001b[38;5;18m__name__\u001b[39m \u001b[38;5;241m==\u001b[39m \u001b[38;5;124m\"\u001b[39m\u001b[38;5;124m__main__\u001b[39m\u001b[38;5;124m\"\u001b[39m:\n\u001b[1;32m----> 5\u001b[0m     \u001b[43masyncio\u001b[49m\u001b[38;5;241;43m.\u001b[39;49m\u001b[43mrun\u001b[49m\u001b[43m(\u001b[49m\u001b[43mmain\u001b[49m\u001b[43m(\u001b[49m\u001b[43m)\u001b[49m\u001b[43m)\u001b[49m\n",
      "File \u001b[1;32m~\\anaconda32\\lib\\asyncio\\runners.py:33\u001b[0m, in \u001b[0;36mrun\u001b[1;34m(main, debug)\u001b[0m\n\u001b[0;32m      9\u001b[0m \u001b[38;5;124;03m\"\"\"Execute the coroutine and return the result.\u001b[39;00m\n\u001b[0;32m     10\u001b[0m \n\u001b[0;32m     11\u001b[0m \u001b[38;5;124;03mThis function runs the passed coroutine, taking care of\u001b[39;00m\n\u001b[1;32m   (...)\u001b[0m\n\u001b[0;32m     30\u001b[0m \u001b[38;5;124;03m    asyncio.run(main())\u001b[39;00m\n\u001b[0;32m     31\u001b[0m \u001b[38;5;124;03m\"\"\"\u001b[39;00m\n\u001b[0;32m     32\u001b[0m \u001b[38;5;28;01mif\u001b[39;00m events\u001b[38;5;241m.\u001b[39m_get_running_loop() \u001b[38;5;129;01mis\u001b[39;00m \u001b[38;5;129;01mnot\u001b[39;00m \u001b[38;5;28;01mNone\u001b[39;00m:\n\u001b[1;32m---> 33\u001b[0m     \u001b[38;5;28;01mraise\u001b[39;00m \u001b[38;5;167;01mRuntimeError\u001b[39;00m(\n\u001b[0;32m     34\u001b[0m         \u001b[38;5;124m\"\u001b[39m\u001b[38;5;124masyncio.run() cannot be called from a running event loop\u001b[39m\u001b[38;5;124m\"\u001b[39m)\n\u001b[0;32m     36\u001b[0m \u001b[38;5;28;01mif\u001b[39;00m \u001b[38;5;129;01mnot\u001b[39;00m coroutines\u001b[38;5;241m.\u001b[39miscoroutine(main):\n\u001b[0;32m     37\u001b[0m     \u001b[38;5;28;01mraise\u001b[39;00m \u001b[38;5;167;01mValueError\u001b[39;00m(\u001b[38;5;124m\"\u001b[39m\u001b[38;5;124ma coroutine was expected, got \u001b[39m\u001b[38;5;132;01m{!r}\u001b[39;00m\u001b[38;5;124m\"\u001b[39m\u001b[38;5;241m.\u001b[39mformat(main))\n",
      "\u001b[1;31mRuntimeError\u001b[0m: asyncio.run() cannot be called from a running event loop"
     ]
    }
   ],
   "source": [
    "async def main():\n",
    "    client = await twitter_login()\n",
    "    await select_tag_and_date(client)\n",
    "if __name__ == \"__main__\":\n",
    "    asyncio.run(main())"
   ]
  },
  {
   "cell_type": "code",
   "execution_count": 25,
   "id": "45e0d20a",
   "metadata": {},
   "outputs": [],
   "source": [
    "# for tag in tags_db.find({}):\n",
    "#     await fetch_tweets(tag['name'], \"2024-10-06\")\n",
    "# # os.system(\"shutdown /s /t 1\")"
   ]
  }
 ],
 "metadata": {
  "kernelspec": {
   "display_name": "Python 3 (ipykernel)",
   "language": "python",
   "name": "python3"
  },
  "language_info": {
   "codemirror_mode": {
    "name": "ipython",
    "version": 3
   },
   "file_extension": ".py",
   "mimetype": "text/x-python",
   "name": "python",
   "nbconvert_exporter": "python",
   "pygments_lexer": "ipython3",
   "version": "3.10.9"
  }
 },
 "nbformat": 4,
 "nbformat_minor": 5
}
